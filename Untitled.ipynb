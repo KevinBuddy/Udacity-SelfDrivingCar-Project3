{
 "cells": [
  {
   "cell_type": "code",
   "execution_count": 1,
   "metadata": {},
   "outputs": [
    {
     "name": "stdout",
     "output_type": "stream",
     "text": [
      "[]\n",
      "[1, 1, 2, 3, 5, 8, 13, 21, 34, 55]\n"
     ]
    }
   ],
   "source": [
    "def fibonacci():\n",
    "    numbers_list = []\n",
    "    while 1:\n",
    "        if(len(numbers_list) < 2):\n",
    "            numbers_list.append(1)\n",
    "        else:\n",
    "            numbers_list.append(numbers_list[-1] + numbers_list[-2])\n",
    "        yield numbers_list # change this line so it yields its list instead of 1\n",
    "\n",
    "our_generator = fibonacci()\n",
    "my_output = []\n",
    "print(my_output)\n",
    "for i in range(10):\n",
    "    my_output = (next(our_generator))\n",
    "    \n",
    "print(my_output)"
   ]
  }
 ],
 "metadata": {
  "kernelspec": {
   "display_name": "Python 3",
   "language": "python",
   "name": "python3"
  },
  "language_info": {
   "codemirror_mode": {
    "name": "ipython",
    "version": 3
   },
   "file_extension": ".py",
   "mimetype": "text/x-python",
   "name": "python",
   "nbconvert_exporter": "python",
   "pygments_lexer": "ipython3",
   "version": "3.5.2"
  },
  "widgets": {
   "state": {},
   "version": "1.1.2"
  }
 },
 "nbformat": 4,
 "nbformat_minor": 2
}
