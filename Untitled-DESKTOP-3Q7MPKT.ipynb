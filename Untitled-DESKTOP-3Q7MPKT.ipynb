{
 "cells": [
  {
   "cell_type": "code",
   "execution_count": 2,
   "metadata": {},
   "outputs": [
    {
     "name": "stdout",
     "output_type": "stream",
     "text": [
      "8348\n"
     ]
    },
    {
     "name": "stderr",
     "output_type": "stream",
     "text": [
      "Using TensorFlow backend.\n"
     ]
    },
    {
     "name": "stdout",
     "output_type": "stream",
     "text": [
      "(8348, 160, 320, 3)\n",
      "(8348,)\n",
      "Train on 6678 samples, validate on 1670 samples\n",
      "Epoch 1/7\n",
      "6678/6678 [==============================] - 5s - loss: 9419586.8852 - val_loss: 4525.1340\n",
      "Epoch 2/7\n",
      "6678/6678 [==============================] - 4s - loss: 4104.1222 - val_loss: 3038.9607\n",
      "Epoch 3/7\n",
      "6678/6678 [==============================] - 4s - loss: 2886.8854 - val_loss: 2155.3488\n",
      "Epoch 4/7\n",
      "6678/6678 [==============================] - 4s - loss: 2022.7698 - val_loss: 1678.5076\n",
      "Epoch 5/7\n",
      "6678/6678 [==============================] - 4s - loss: 2078.1724 - val_loss: 2189.1952\n",
      "Epoch 6/7\n",
      "6678/6678 [==============================] - 4s - loss: 2118.4460 - val_loss: 1455.9444\n",
      "Epoch 7/7\n",
      "6678/6678 [==============================] - 4s - loss: 2048.1529 - val_loss: 12930.6013\n"
     ]
    }
   ],
   "source": [
    "import csv\n",
    "import cv2\n",
    "import numpy as np\n",
    "\n",
    "lines=[]\n",
    "amount=1000000\n",
    "with open('../data/driving_log.csv') as csvfile:\n",
    "    reader=csv.reader(csvfile)\n",
    "    i=0\n",
    "    for line in reader:\n",
    "        if ((i>=0) and (i<=amount)):\n",
    "            lines.append(line)\n",
    "        else:\n",
    "            if (i>amount):\n",
    "                break\n",
    "        i+=1\n",
    "print (len(lines))\n",
    "images=[]\n",
    "measurements=[]\n",
    "for line in lines:\n",
    "    source_path=line[0]\n",
    "    filename=source_path.split('\\\\')[-1]\n",
    "    current_path='../data/IMG/'+filename\n",
    "    image=cv2.imread(current_path)\n",
    "    images.append(image)\n",
    "    measurement=float(line[3])\n",
    "    measurements.append(measurement)\n",
    "X_train=np.array(images)\n",
    "Y_train=np.array(measurements)\n",
    "from keras.models import Sequential\n",
    "from keras.layers import Flatten,Dense\n",
    "print (X_train.shape)\n",
    "print (Y_train.shape)\n",
    "model=Sequential()\n",
    "model.add(Flatten(input_shape=(160,320,3)))\n",
    "model.add(Dense(1))\n",
    "\n",
    "model.compile(loss='mse',optimizer='adam')\n",
    "model.fit(X_train,Y_train,validation_split=0.2,shuffle=True,epochs=7)\n",
    "model.save('model.h5')\n",
    "\n",
    "    "
   ]
  },
  {
   "cell_type": "code",
   "execution_count": 7,
   "metadata": {},
   "outputs": [
    {
     "ename": "ImportError",
     "evalue": "No module named 'image'",
     "output_type": "error",
     "traceback": [
      "\u001b[1;31m---------------------------------------------------------------------------\u001b[0m",
      "\u001b[1;31mImportError\u001b[0m                               Traceback (most recent call last)",
      "\u001b[1;32m<ipython-input-7-190f977d37e8>\u001b[0m in \u001b[0;36m<module>\u001b[1;34m()\u001b[0m\n\u001b[0;32m      1\u001b[0m \u001b[1;32mimport\u001b[0m \u001b[0mmatplotlib\u001b[0m\u001b[1;33m.\u001b[0m\u001b[0mpyplot\u001b[0m \u001b[1;32mas\u001b[0m \u001b[0mplt\u001b[0m\u001b[1;33m\u001b[0m\u001b[0m\n\u001b[1;32m----> 2\u001b[1;33m \u001b[1;32mimport\u001b[0m \u001b[0mimage\u001b[0m \u001b[1;32mas\u001b[0m \u001b[0mim\u001b[0m\u001b[1;33m\u001b[0m\u001b[0m\n\u001b[0m\u001b[0;32m      3\u001b[0m \u001b[0mimage\u001b[0m \u001b[1;33m=\u001b[0m \u001b[0mX_train\u001b[0m\u001b[1;33m[\u001b[0m\u001b[1;36m0\u001b[0m\u001b[1;33m]\u001b[0m\u001b[1;33m\u001b[0m\u001b[0m\n\u001b[0;32m      4\u001b[0m \u001b[0mimage_array\u001b[0m \u001b[1;33m=\u001b[0m \u001b[0mnp\u001b[0m\u001b[1;33m.\u001b[0m\u001b[0masarray\u001b[0m\u001b[1;33m(\u001b[0m\u001b[0mimage\u001b[0m\u001b[1;33m)\u001b[0m\u001b[1;33m\u001b[0m\u001b[0m\n\u001b[0;32m      5\u001b[0m \u001b[0msteering_angle\u001b[0m \u001b[1;33m=\u001b[0m \u001b[0mfloat\u001b[0m\u001b[1;33m(\u001b[0m\u001b[0mmodel\u001b[0m\u001b[1;33m.\u001b[0m\u001b[0mpredict\u001b[0m\u001b[1;33m(\u001b[0m\u001b[0mimage_array\u001b[0m\u001b[1;33m[\u001b[0m\u001b[1;32mNone\u001b[0m\u001b[1;33m,\u001b[0m \u001b[1;33m:\u001b[0m\u001b[1;33m,\u001b[0m \u001b[1;33m:\u001b[0m\u001b[1;33m,\u001b[0m \u001b[1;33m:\u001b[0m\u001b[1;33m]\u001b[0m\u001b[1;33m,\u001b[0m \u001b[0mbatch_size\u001b[0m\u001b[1;33m=\u001b[0m\u001b[1;36m1\u001b[0m\u001b[1;33m)\u001b[0m\u001b[1;33m)\u001b[0m\u001b[1;33m\u001b[0m\u001b[0m\n",
      "\u001b[1;31mImportError\u001b[0m: No module named 'image'"
     ]
    }
   ],
   "source": [
    "import matplotlib.pyplot as plt\n",
    "import image as im\n",
    "image = X_train[0]\n",
    "image_array = np.asarray(image)\n",
    "steering_angle = float(model.predict(image_array[None, :, :, :], batch_size=1))\n",
    "print (steering_angle)\n",
    "plt.imshow(image)\n",
    "plt.show()\n",
    "im.fromarray(image).save('1.jpg')"
   ]
  }
 ],
 "metadata": {
  "kernelspec": {
   "display_name": "Python 3",
   "language": "python",
   "name": "python3"
  },
  "language_info": {
   "codemirror_mode": {
    "name": "ipython",
    "version": 3
   },
   "file_extension": ".py",
   "mimetype": "text/x-python",
   "name": "python",
   "nbconvert_exporter": "python",
   "pygments_lexer": "ipython3",
   "version": "3.5.2"
  },
  "widgets": {
   "state": {},
   "version": "1.1.2"
  }
 },
 "nbformat": 4,
 "nbformat_minor": 2
}
